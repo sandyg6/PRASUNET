{
 "cells": [
  {
   "cell_type": "code",
   "execution_count": 1,
   "id": "9caa086b-b29d-4563-806f-e024784ca645",
   "metadata": {},
   "outputs": [],
   "source": [
    "import os\n",
    "import numpy as np\n",
    "from sklearn.svm import SVC\n",
    "from sklearn.metrics import classification_report, confusion_matrix\n",
    "import matplotlib.pyplot as plt\n",
    "from tqdm import tqdm\n",
    "import joblib\n",
    "from sklearn.model_selection import GridSearchCV\n",
    "import cv2\n",
    "import seaborn as sns\n",
    "import time\n",
    "from sklearn.decomposition import PCA\n",
    "from sklearn.pipeline import Pipeline\n",
    "from sklearn.model_selection import train_test_split"
   ]
  },
  {
   "cell_type": "code",
   "execution_count": 2,
   "id": "d789425a-03cf-4b01-bd61-7c168577c0ad",
   "metadata": {},
   "outputs": [],
   "source": [
    "# # extract dataset\n",
    "# from zipfile import ZipFile\n",
    "\n",
    "# dataset_train = \"train.zip\"\n",
    "    \n",
    "# with ZipFile(dataset_train, 'r') as zip:\n",
    "#     zip.extractall()"
   ]
  },
  {
   "cell_type": "code",
   "execution_count": 19,
   "id": "5cfeab8c-9763-4ebe-8da7-e54430dc3ba3",
   "metadata": {},
   "outputs": [],
   "source": [
    "folder_path = f\"Dataset/\"\n",
    "os.makedirs(folder_path, exist_ok=True)\n",
    "\n",
    "# Path dataset\n",
    "dataset_dir = \"Dataset/\"\n",
    "train_dir = os.path.join(dataset_dir, \"train\")\n",
    "test_dir = os.path.join(dataset_dir, \"test1\")"
   ]
  },
  {
   "cell_type": "code",
   "execution_count": 3,
   "id": "be9b063c-b1dc-4194-9951-c10a6be4a611",
   "metadata": {},
   "outputs": [
    {
     "name": "stderr",
     "output_type": "stream",
     "text": [
      "Processing Train Images: 100%|███████████████████████████████████████████████████| 25000/25000 [06:18<00:00, 66.13it/s]\n"
     ]
    }
   ],
   "source": [
    "# load data, preprocessing data, and labeling\n",
    "# dog = 1, cat = 0\n",
    "train_images = os.listdir(train_dir)\n",
    "features = []\n",
    "labels = []\n",
    "image_size = (50, 50)\n",
    "\n",
    "# Proses train images\n",
    "for image in tqdm(train_images, desc=\"Processing Train Images\"):\n",
    "    if image[0:3] == 'cat' :\n",
    "        label = 0\n",
    "    else :\n",
    "        label = 1\n",
    "    image_read = cv2.imread(train_dir+\"/\"+image)\n",
    "    image_resized = cv2.resize(image_read, image_size)\n",
    "    image_normalized = image_resized / 255.0\n",
    "    image_flatten = image_normalized.flatten()\n",
    "    features.append(image_flatten)\n",
    "    labels.append(label)"
   ]
  },
  {
   "cell_type": "code",
   "execution_count": 4,
   "id": "365c2502-4342-41ec-914f-a5439e98c6fd",
   "metadata": {},
   "outputs": [],
   "source": [
    "del train_images"
   ]
  },
  {
   "cell_type": "code",
   "execution_count": 5,
   "id": "b578c2bc-f537-40b5-92ad-cea340c12e6f",
   "metadata": {},
   "outputs": [],
   "source": [
    "features = np.asarray(features)\n",
    "labels = np.asarray(labels)\n",
    "\n",
    "# train test split\n",
    "X_train, X_test, y_train, y_test = train_test_split(features, labels, test_size=0.2, shuffle=True, random_state=42)"
   ]
  },
  {
   "cell_type": "code",
   "execution_count": 6,
   "id": "bf3a79cb-8135-44a6-ae36-cf3524bb2c2d",
   "metadata": {},
   "outputs": [],
   "source": [
    "del features\n",
    "del labels"
   ]
  },
  {
   "cell_type": "code",
   "execution_count": 7,
   "id": "b47c3c4d-aa4b-4379-8fac-c08c8b5be608",
   "metadata": {},
   "outputs": [],
   "source": [
    "# PCA, SVM, & Pipeline\n",
    "n_components = 0.8\n",
    "pca = PCA(n_components=n_components)\n",
    "svm = SVC()\n",
    "pca = PCA(n_components=n_components, random_state=42)\n",
    "pipeline = Pipeline([\n",
    "    ('pca', pca),\n",
    "    ('svm', svm)\n",
    "])"
   ]
  },
  {
   "cell_type": "code",
   "execution_count": 8,
   "id": "73f465e3-f6b0-4548-a019-89f3be728fb4",
   "metadata": {},
   "outputs": [],
   "source": [
    "param_grid = {\n",
    "    'pca__n_components': [2, 1, 0.9, 0.8],\n",
    "    'svm__kernel': ['linear', 'rbf', 'poly', 'sigmoid'],\n",
    "}"
   ]
  },
  {
   "cell_type": "code",
   "execution_count": 9,
   "id": "3214d3dc-60cd-4e49-bfa8-148856a9b159",
   "metadata": {
    "scrolled": true
   },
   "outputs": [
    {
     "name": "stdout",
     "output_type": "stream",
     "text": [
      "Fitting 3 folds for each of 16 candidates, totalling 48 fits\n",
      "[CV 1/3] END pca__n_components=2, svm__kernel=linear;, score=0.528 total time=  37.6s\n",
      "[CV 2/3] END pca__n_components=2, svm__kernel=linear;, score=0.525 total time=  37.6s\n",
      "[CV 3/3] END pca__n_components=2, svm__kernel=linear;, score=0.537 total time=  29.6s\n",
      "[CV 1/3] END pca__n_components=2, svm__kernel=rbf;, score=0.570 total time=  23.8s\n",
      "[CV 2/3] END pca__n_components=2, svm__kernel=rbf;, score=0.560 total time=  35.7s\n",
      "[CV 3/3] END pca__n_components=2, svm__kernel=rbf;, score=0.564 total time=  24.7s\n",
      "[CV 1/3] END pca__n_components=2, svm__kernel=poly;, score=0.504 total time=  16.7s\n",
      "[CV 2/3] END pca__n_components=2, svm__kernel=poly;, score=0.485 total time=  13.8s\n",
      "[CV 3/3] END pca__n_components=2, svm__kernel=poly;, score=0.492 total time=  14.0s\n",
      "[CV 1/3] END pca__n_components=2, svm__kernel=sigmoid;, score=0.507 total time=  14.7s\n",
      "[CV 2/3] END pca__n_components=2, svm__kernel=sigmoid;, score=0.495 total time=  14.2s\n",
      "[CV 3/3] END pca__n_components=2, svm__kernel=sigmoid;, score=0.505 total time=  15.9s\n",
      "[CV 1/3] END pca__n_components=1, svm__kernel=linear;, score=0.518 total time=  15.9s\n",
      "[CV 2/3] END pca__n_components=1, svm__kernel=linear;, score=0.512 total time=  15.0s\n",
      "[CV 3/3] END pca__n_components=1, svm__kernel=linear;, score=0.525 total time=  15.8s\n",
      "[CV 1/3] END pca__n_components=1, svm__kernel=rbf;, score=0.527 total time=  19.1s\n",
      "[CV 2/3] END pca__n_components=1, svm__kernel=rbf;, score=0.525 total time=  19.5s\n",
      "[CV 3/3] END pca__n_components=1, svm__kernel=rbf;, score=0.529 total time=  26.8s\n",
      "[CV 1/3] END pca__n_components=1, svm__kernel=poly;, score=0.501 total time=  15.5s\n",
      "[CV 2/3] END pca__n_components=1, svm__kernel=poly;, score=0.495 total time=  14.2s\n",
      "[CV 3/3] END pca__n_components=1, svm__kernel=poly;, score=0.499 total time=  15.2s\n",
      "[CV 1/3] END pca__n_components=1, svm__kernel=sigmoid;, score=0.505 total time=  14.0s\n",
      "[CV 2/3] END pca__n_components=1, svm__kernel=sigmoid;, score=0.495 total time=  14.1s\n",
      "[CV 3/3] END pca__n_components=1, svm__kernel=sigmoid;, score=0.500 total time=  14.1s\n",
      "[CV 1/3] END pca__n_components=0.9, svm__kernel=linear;, score=0.602 total time=25.7min\n",
      "[CV 2/3] END pca__n_components=0.9, svm__kernel=linear;, score=0.602 total time=21.4min\n",
      "[CV 3/3] END pca__n_components=0.9, svm__kernel=linear;, score=0.620 total time=23.0min\n",
      "[CV 1/3] END pca__n_components=0.9, svm__kernel=rbf;, score=0.672 total time=13.0min\n",
      "[CV 2/3] END pca__n_components=0.9, svm__kernel=rbf;, score=0.672 total time=14.3min\n",
      "[CV 3/3] END pca__n_components=0.9, svm__kernel=rbf;, score=0.678 total time=13.3min\n",
      "[CV 1/3] END pca__n_components=0.9, svm__kernel=poly;, score=0.605 total time=11.7min\n",
      "[CV 2/3] END pca__n_components=0.9, svm__kernel=poly;, score=0.604 total time=12.6min\n",
      "[CV 3/3] END pca__n_components=0.9, svm__kernel=poly;, score=0.599 total time=13.0min\n",
      "[CV 1/3] END pca__n_components=0.9, svm__kernel=sigmoid;, score=0.510 total time=11.4min\n",
      "[CV 2/3] END pca__n_components=0.9, svm__kernel=sigmoid;, score=0.523 total time=10.9min\n",
      "[CV 3/3] END pca__n_components=0.9, svm__kernel=sigmoid;, score=0.511 total time=11.3min\n",
      "[CV 1/3] END pca__n_components=0.8, svm__kernel=linear;, score=0.584 total time=14.7min\n",
      "[CV 2/3] END pca__n_components=0.8, svm__kernel=linear;, score=0.585 total time=15.1min\n",
      "[CV 3/3] END pca__n_components=0.8, svm__kernel=linear;, score=0.587 total time=14.5min\n",
      "[CV 1/3] END pca__n_components=0.8, svm__kernel=rbf;, score=0.659 total time= 9.8min\n",
      "[CV 2/3] END pca__n_components=0.8, svm__kernel=rbf;, score=0.666 total time=10.3min\n",
      "[CV 3/3] END pca__n_components=0.8, svm__kernel=rbf;, score=0.668 total time=11.4min\n",
      "[CV 1/3] END pca__n_components=0.8, svm__kernel=poly;, score=0.598 total time=10.9min\n",
      "[CV 2/3] END pca__n_components=0.8, svm__kernel=poly;, score=0.597 total time=10.4min\n",
      "[CV 3/3] END pca__n_components=0.8, svm__kernel=poly;, score=0.591 total time=10.7min\n",
      "[CV 1/3] END pca__n_components=0.8, svm__kernel=sigmoid;, score=0.504 total time=11.7min\n",
      "[CV 2/3] END pca__n_components=0.8, svm__kernel=sigmoid;, score=0.521 total time=10.0min\n",
      "[CV 3/3] END pca__n_components=0.8, svm__kernel=sigmoid;, score=0.508 total time=10.6min\n"
     ]
    }
   ],
   "source": [
    "start_time = time.time()\n",
    "\n",
    "grid_search = GridSearchCV(pipeline, param_grid, cv=3, verbose=4)\n",
    "grid_search.fit(X_train, y_train)\n",
    "\n",
    "end_time = time.time()"
   ]
  },
  {
   "cell_type": "code",
   "execution_count": 10,
   "id": "b15c9704-d96d-44b7-b19e-c6d174f874d2",
   "metadata": {},
   "outputs": [],
   "source": [
    "del X_train\n",
    "del y_train"
   ]
  },
  {
   "cell_type": "code",
   "execution_count": 11,
   "id": "5d680f72-51bc-410b-ab71-01efad9c8f68",
   "metadata": {},
   "outputs": [
    {
     "name": "stdout",
     "output_type": "stream",
     "text": [
      "Best Parameters:  {'pca__n_components': 0.9, 'svm__kernel': 'rbf'}\n",
      "Best Score:  0.6738502183801701\n"
     ]
    }
   ],
   "source": [
    "best_pipeline = grid_search.best_estimator_\n",
    "best_params = grid_search.best_params_\n",
    "best_score = grid_search.best_score_\n",
    "\n",
    "print(\"Best Parameters: \", best_params)\n",
    "print(\"Best Score: \", best_score)"
   ]
  },
  {
   "cell_type": "code",
   "execution_count": 14,
   "id": "cc18c476-e33d-4bb0-92ed-68b82c78d5c2",
   "metadata": {},
   "outputs": [
    {
     "name": "stdout",
     "output_type": "stream",
     "text": [
      "Model saved to model.pkl\n"
     ]
    }
   ],
   "source": [
    "model_path = \"model.pkl\"\n",
    "joblib.dump(best_pipeline, model_path)\n",
    "print(f\"Model saved to {model_path}\")"
   ]
  },
  {
   "cell_type": "code",
   "execution_count": 15,
   "id": "49cb767f-8a19-482e-bee7-6d5751804478",
   "metadata": {},
   "outputs": [
    {
     "name": "stdout",
     "output_type": "stream",
     "text": [
      "Accuracy: 0.6846\n"
     ]
    }
   ],
   "source": [
    "accuracy = best_pipeline.score(X_test, y_test)\n",
    "print(\"Accuracy:\", accuracy)\n"
   ]
  },
  {
   "cell_type": "code",
   "execution_count": 16,
   "id": "ceb52532-5407-461b-a8cb-fae6e79811de",
   "metadata": {},
   "outputs": [],
   "source": [
    "y_pred = best_pipeline.predict(X_test)"
   ]
  },
  {
   "cell_type": "code",
   "execution_count": 17,
   "id": "fac0acb8-573e-42be-8cd8-1ae81f613220",
   "metadata": {},
   "outputs": [
    {
     "name": "stdout",
     "output_type": "stream",
     "text": [
      "Classification Report:\n",
      "               precision    recall  f1-score   support\n",
      "\n",
      "         Cat       0.69      0.69      0.69      2515\n",
      "         Dog       0.68      0.68      0.68      2485\n",
      "\n",
      "    accuracy                           0.68      5000\n",
      "   macro avg       0.68      0.68      0.68      5000\n",
      "weighted avg       0.68      0.68      0.68      5000\n",
      "\n"
     ]
    }
   ],
   "source": [
    "target_names = ['Cat', 'Dog']\n",
    "classification_rep = classification_report(y_test, y_pred, target_names=target_names)\n",
    "print(\"Classification Report:\\n\", classification_rep)"
   ]
  },
  {
   "cell_type": "code",
   "execution_count": 18,
   "id": "d17915e2-1837-44bb-a29e-2c286c25a6a0",
   "metadata": {},
   "outputs": [
    {
     "data": {
      "image/png": "[encoded data removed]",
      "text/plain": [
       "<Figure size 640x480 with 2 Axes>"
      ]
     },
     "metadata": {},
     "output_type": "display_data"
    }
   ],
   "source": [
    "cm = confusion_matrix(y_test, y_pred)\n",
    "sns.heatmap(cm, annot=True, fmt=\"d\", cmap=\"Blues\")\n",
    "plt.xlabel('Predicted labels')\n",
    "plt.ylabel('True labels')\n",
    "plt.show()"
   ]
  },
  {
   "cell_type": "code",
   "execution_count": null,
   "id": "5b104560-0e61-4570-9ff0-255a4c8c6367",
   "metadata": {},
   "outputs": [],
   "source": []
  }
 ],
 "metadata": {
  "kernelspec": {
   "display_name": "Python 3 (ipykernel)",
   "language": "python",
   "name": "python3"
  },
  "language_info": {
   "codemirror_mode": {
    "name": "ipython",
    "version": 3
   },
   "file_extension": ".py",
   "mimetype": "text/x-python",
   "name": "python",
   "nbconvert_exporter": "python",
   "pygments_lexer": "ipython3",
   "version": "3.11.7"
  }
 },
 "nbformat": 4,
 "nbformat_minor": 5
}

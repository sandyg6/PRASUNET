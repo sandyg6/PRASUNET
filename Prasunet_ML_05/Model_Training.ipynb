{
 "cells": [
  {
   "cell_type": "markdown",
   "id": "c6388115-e987-4e78-9d3e-15cac75d9072",
   "metadata": {},
   "source": [
    "Data Preparation and Preprocessing"
   ]
  },
  {
   "cell_type": "code",
   "execution_count": 1,
   "id": "edeae3f5-8979-4b45-bbd3-5afbcf2435c8",
   "metadata": {},
   "outputs": [],
   "source": [
    "import tensorflow as tf\n",
    "from tensorflow.keras.preprocessing.image import ImageDataGenerator\n",
    "import os"
   ]
  },
  {
   "cell_type": "code",
   "execution_count": 2,
   "id": "bf4aa91f-f251-41ae-8e5f-5ec94042e690",
   "metadata": {},
   "outputs": [],
   "source": [
    "# Load and preprocess the data\n",
    "base_dir = 'Food-101'"
   ]
  },
  {
   "cell_type": "code",
   "execution_count": 3,
   "id": "a20288e6-874f-4445-a901-3801a8c3d02b",
   "metadata": {},
   "outputs": [],
   "source": [
    "# ImageDataGenerator for data augmentation and normalization\n",
    "data_gen = ImageDataGenerator(\n",
    "    rescale=1./255,\n",
    "    shear_range=0.2,\n",
    "    zoom_range=0.2,\n",
    "    horizontal_flip=True,\n",
    "    validation_split=0.2  # Split the data into 80% training and 20% validation\n",
    ")\n"
   ]
  },
  {
   "cell_type": "code",
   "execution_count": 4,
   "id": "dc971f03-f08a-419d-9683-c2b027cc5a3d",
   "metadata": {},
   "outputs": [
    {
     "name": "stdout",
     "output_type": "stream",
     "text": [
      "Found 8080 images belonging to 101 classes.\n",
      "Found 2020 images belonging to 101 classes.\n"
     ]
    }
   ],
   "source": [
    "# Create generators for training and validation\n",
    "train_generator = data_gen.flow_from_directory(\n",
    "    base_dir,\n",
    "    target_size=(224, 224),\n",
    "    batch_size=32,\n",
    "    class_mode='categorical',\n",
    "    subset='training'\n",
    ")\n",
    "\n",
    "validation_generator = data_gen.flow_from_directory(\n",
    "    base_dir,\n",
    "    target_size=(224, 224),\n",
    "    batch_size=32,\n",
    "    class_mode='categorical',\n",
    "    subset='validation'\n",
    ")"
   ]
  },
  {
   "cell_type": "code",
   "execution_count": 5,
   "id": "3fddca4b-183d-480c-968b-11e4fa36d5f4",
   "metadata": {},
   "outputs": [
    {
     "name": "stdout",
     "output_type": "stream",
     "text": [
      "Found 10100 images belonging to 101 classes.\n"
     ]
    }
   ],
   "source": [
    "# Test data generator (no data augmentation, just normalization)\n",
    "test_datagen = ImageDataGenerator(rescale=1./255)\n",
    "\n",
    "test_generator = test_datagen.flow_from_directory(\n",
    "    base_dir,\n",
    "    target_size=(224, 224),\n",
    "    batch_size=32,\n",
    "    class_mode='categorical',\n",
    "    shuffle=False  # Ensure the order of images is preserved for evaluation\n",
    ")"
   ]
  },
  {
   "cell_type": "markdown",
   "id": "755cba45-6474-4439-851e-41f6c22fe68f",
   "metadata": {},
   "source": [
    "Model Selection"
   ]
  },
  {
   "cell_type": "code",
   "execution_count": 6,
   "id": "969a0fc0-587d-43e4-8b12-bf851ddc5f03",
   "metadata": {},
   "outputs": [],
   "source": [
    "from tensorflow.keras.applications import ResNet50\n",
    "from tensorflow.keras.layers import Dense, GlobalAveragePooling2D\n",
    "from tensorflow.keras.models import Model"
   ]
  },
  {
   "cell_type": "code",
   "execution_count": 7,
   "id": "485c8c72-2291-49eb-97cd-70d70465871f",
   "metadata": {},
   "outputs": [],
   "source": [
    "# Load the pretrained ResNet50 model\n",
    "base_model = ResNet50(weights='imagenet', include_top=False, input_shape=(224, 224, 3))"
   ]
  },
  {
   "cell_type": "code",
   "execution_count": 8,
   "id": "15416c11-7c16-4aa8-8379-d98a9907f493",
   "metadata": {},
   "outputs": [],
   "source": [
    "# Add custom layers on top of the base model\n",
    "x = base_model.output\n",
    "x = GlobalAveragePooling2D()(x)\n",
    "x = Dense(1024, activation='relu')(x)\n",
    "predictions = Dense(101, activation='softmax')(x)"
   ]
  },
  {
   "cell_type": "code",
   "execution_count": 9,
   "id": "f73ee520-0b6a-4b5d-8a83-9ed3c7676d5b",
   "metadata": {},
   "outputs": [],
   "source": [
    "# Create the full model\n",
    "model = Model(inputs=base_model.input, outputs=predictions)"
   ]
  },
  {
   "cell_type": "code",
   "execution_count": 10,
   "id": "34cc0aa4-e50b-44f4-bdac-3bc94d74410a",
   "metadata": {},
   "outputs": [],
   "source": [
    "# Compile the model\n",
    "model.compile(optimizer='adam', loss='categorical_crossentropy', metrics=['accuracy'])"
   ]
  },
  {
   "cell_type": "code",
   "execution_count": 11,
   "id": "51cddeff-0df8-4aab-adad-4b726cdac6e6",
   "metadata": {},
   "outputs": [
    {
     "name": "stdout",
     "output_type": "stream",
     "text": [
      "Epoch 1/10\n"
     ]
    },
    {
     "name": "stderr",
     "output_type": "stream",
     "text": [
      "C:\\Users\\sandh\\anaconda3\\Lib\\site-packages\\keras\\src\\trainers\\data_adapters\\py_dataset_adapter.py:121: UserWarning: Your `PyDataset` class should call `super().__init__(**kwargs)` in its constructor. `**kwargs` can include `workers`, `use_multiprocessing`, `max_queue_size`. Do not pass these arguments to `fit()`, as they will be ignored.\n",
      "  self._warn_if_super_not_called()\n"
     ]
    },
    {
     "name": "stdout",
     "output_type": "stream",
     "text": [
      "\u001b[1m253/253\u001b[0m \u001b[32m━━━━━━━━━━━━━━━━━━━━\u001b[0m\u001b[37m\u001b[0m \u001b[1m3207s\u001b[0m 12s/step - accuracy: 0.0234 - loss: 4.6684 - val_accuracy: 0.0099 - val_loss: 5.5208\n",
      "Epoch 2/10\n",
      "\u001b[1m253/253\u001b[0m \u001b[32m━━━━━━━━━━━━━━━━━━━━\u001b[0m\u001b[37m\u001b[0m \u001b[1m2708s\u001b[0m 11s/step - accuracy: 0.0508 - loss: 4.2651 - val_accuracy: 0.0099 - val_loss: 7.2612\n",
      "Epoch 3/10\n",
      "\u001b[1m253/253\u001b[0m \u001b[32m━━━━━━━━━━━━━━━━━━━━\u001b[0m\u001b[37m\u001b[0m \u001b[1m2845s\u001b[0m 11s/step - accuracy: 0.1081 - loss: 3.8430 - val_accuracy: 0.0109 - val_loss: 6.6245\n",
      "Epoch 4/10\n",
      "\u001b[1m253/253\u001b[0m \u001b[32m━━━━━━━━━━━━━━━━━━━━\u001b[0m\u001b[37m\u001b[0m \u001b[1m3143s\u001b[0m 12s/step - accuracy: 0.1600 - loss: 3.5218 - val_accuracy: 0.1045 - val_loss: 4.7746\n",
      "Epoch 5/10\n",
      "\u001b[1m253/253\u001b[0m \u001b[32m━━━━━━━━━━━━━━━━━━━━\u001b[0m\u001b[37m\u001b[0m \u001b[1m2769s\u001b[0m 11s/step - accuracy: 0.1992 - loss: 3.2907 - val_accuracy: 0.1673 - val_loss: 3.6786\n",
      "Epoch 6/10\n",
      "\u001b[1m253/253\u001b[0m \u001b[32m━━━━━━━━━━━━━━━━━━━━\u001b[0m\u001b[37m\u001b[0m \u001b[1m2253s\u001b[0m 9s/step - accuracy: 0.2335 - loss: 3.0883 - val_accuracy: 0.0941 - val_loss: 4.3836\n",
      "Epoch 7/10\n",
      "\u001b[1m253/253\u001b[0m \u001b[32m━━━━━━━━━━━━━━━━━━━━\u001b[0m\u001b[37m\u001b[0m \u001b[1m2749s\u001b[0m 11s/step - accuracy: 0.2850 - loss: 2.8996 - val_accuracy: 0.2114 - val_loss: 3.3360\n",
      "Epoch 8/10\n",
      "\u001b[1m253/253\u001b[0m \u001b[32m━━━━━━━━━━━━━━━━━━━━\u001b[0m\u001b[37m\u001b[0m \u001b[1m3072s\u001b[0m 12s/step - accuracy: 0.3279 - loss: 2.6260 - val_accuracy: 0.1980 - val_loss: 3.4208\n",
      "Epoch 9/10\n",
      "\u001b[1m253/253\u001b[0m \u001b[32m━━━━━━━━━━━━━━━━━━━━\u001b[0m\u001b[37m\u001b[0m \u001b[1m2316s\u001b[0m 9s/step - accuracy: 0.3803 - loss: 2.4070 - val_accuracy: 0.2124 - val_loss: 3.3314\n",
      "Epoch 10/10\n",
      "\u001b[1m253/253\u001b[0m \u001b[32m━━━━━━━━━━━━━━━━━━━━\u001b[0m\u001b[37m\u001b[0m \u001b[1m2194s\u001b[0m 9s/step - accuracy: 0.4320 - loss: 2.2005 - val_accuracy: 0.2391 - val_loss: 3.5782\n"
     ]
    }
   ],
   "source": [
    "# Train the model\n",
    "history = model.fit(\n",
    "    train_generator,\n",
    "    epochs=10,\n",
    "    validation_data=validation_generator\n",
    ")"
   ]
  },
  {
   "cell_type": "markdown",
   "id": "96cc2f05-e629-4c25-8656-b17faaa44600",
   "metadata": {},
   "source": [
    "Saving the Model"
   ]
  },
  {
   "cell_type": "code",
   "execution_count": 12,
   "id": "bea093b8-513c-4493-a198-417e8bcbfd30",
   "metadata": {},
   "outputs": [
    {
     "name": "stderr",
     "output_type": "stream",
     "text": [
      "WARNING:absl:You are saving your model as an HDF5 file via `model.save()` or `keras.saving.save_model(model)`. This file format is considered legacy. We recommend using instead the native Keras format, e.g. `model.save('my_model.keras')` or `keras.saving.save_model(model, 'my_model.keras')`. \n"
     ]
    }
   ],
   "source": [
    "import pickle\n",
    "\n",
    "# Save the model to a file\n",
    "model.save('food_recognition_model.h5')\n",
    "\n",
    "# Save the label mapping\n",
    "with open('label_mapping.pkl', 'wb') as f:\n",
    "    pickle.dump(train_generator.class_indices, f)\n"
   ]
  },
  {
   "cell_type": "code",
   "execution_count": null,
   "id": "34fa3f65-c41f-49f6-8671-de609f416c1c",
   "metadata": {},
   "outputs": [],
   "source": []
  }
 ],
 "metadata": {
  "kernelspec": {
   "display_name": "Python 3 (ipykernel)",
   "language": "python",
   "name": "python3"
  },
  "language_info": {
   "codemirror_mode": {
    "name": "ipython",
    "version": 3
   },
   "file_extension": ".py",
   "mimetype": "text/x-python",
   "name": "python",
   "nbconvert_exporter": "python",
   "pygments_lexer": "ipython3",
   "version": "3.11.7"
  }
 },
 "nbformat": 4,
 "nbformat_minor": 5
}
